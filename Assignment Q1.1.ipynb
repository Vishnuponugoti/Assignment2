{
 "cells": [
  {
   "cell_type": "code",
   "execution_count": 16,
   "id": "6d74d910",
   "metadata": {},
   "outputs": [
    {
     "name": "stdout",
     "output_type": "stream",
     "text": [
      "Your first name:Vishnu\n",
      "Your last name:Ponugoti\n",
      "VishnuPonugoti\n"
     ]
    }
   ],
   "source": [
    "#define full name\n",
    "def full_name(first_name=\"first name\",last_name=\"last name\"):\n",
    "    return first_name+''+last_name\n",
    "#Take names from user\n",
    "first_name=input(\"Your first name:\")\n",
    "last_name=input(\"Your last name:\")\n",
    "#Appending first name and last name\n",
    "full_name=full_name(first_name,last_name)\n",
    "#Print the result\n",
    "print(full_name)"
   ]
  }
 ],
 "metadata": {
  "kernelspec": {
   "display_name": "Python 3 (ipykernel)",
   "language": "python",
   "name": "python3"
  },
  "language_info": {
   "codemirror_mode": {
    "name": "ipython",
    "version": 3
   },
   "file_extension": ".py",
   "mimetype": "text/x-python",
   "name": "python",
   "nbconvert_exporter": "python",
   "pygments_lexer": "ipython3",
   "version": "3.11.1"
  }
 },
 "nbformat": 4,
 "nbformat_minor": 5
}
