{
 "cells": [
  {
   "cell_type": "code",
   "execution_count": 12,
   "id": "d168dd70",
   "metadata": {},
   "outputs": [
    {
     "name": "stdout",
     "output_type": "stream",
     "text": [
      "Nua ewrs\n"
     ]
    }
   ],
   "source": [
    "#defining the function\n",
    "def string_alternative(string):\n",
    "    o=''\n",
    "#Iterative loop\n",
    "    for i in range(len(string)):\n",
    "        if(i%2==0):\n",
    "            o=o+string[i]\n",
    "    return o\n",
    "if __name__=='__main__':\n",
    "#Print the result for given string\n",
    "    print(string_alternative(\"Neural Networks\"))"
   ]
  }
 ],
 "metadata": {
  "kernelspec": {
   "display_name": "Python 3 (ipykernel)",
   "language": "python",
   "name": "python3"
  },
  "language_info": {
   "codemirror_mode": {
    "name": "ipython",
    "version": 3
   },
   "file_extension": ".py",
   "mimetype": "text/x-python",
   "name": "python",
   "nbconvert_exporter": "python",
   "pygments_lexer": "ipython3",
   "version": "3.11.1"
  }
 },
 "nbformat": 4,
 "nbformat_minor": 5
}
