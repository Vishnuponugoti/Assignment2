{
 "cells": [
  {
   "cell_type": "code",
   "execution_count": 7,
   "id": "ddad9c22",
   "metadata": {},
   "outputs": [
    {
     "name": "stdout",
     "output_type": "stream",
     "text": [
      "Deep:1\n",
      "Learning:2\n",
      "course:2\n",
      "Machine:1\n",
      "\n"
     ]
    }
   ],
   "source": [
    "#Create an input file\n",
    "with open('input_file.txt','r') as ipf:\n",
    "    line=ipf.read()\n",
    "    word=line.split()\n",
    "    check=[]\n",
    "    with open('output_file.txt','w') as opf:\n",
    "#Iterative loop\n",
    "        for i in word:\n",
    "            if i not in check:\n",
    "                check.append(i)\n",
    "                opf.write(i+':'+str(word.count(i))+'\\n')\n",
    "opf=open('output_file.txt','r')\n",
    "#Print the results\n",
    "print(opf.read())"
   ]
  }
 ],
 "metadata": {
  "kernelspec": {
   "display_name": "Python 3 (ipykernel)",
   "language": "python",
   "name": "python3"
  },
  "language_info": {
   "codemirror_mode": {
    "name": "ipython",
    "version": 3
   },
   "file_extension": ".py",
   "mimetype": "text/x-python",
   "name": "python",
   "nbconvert_exporter": "python",
   "pygments_lexer": "ipython3",
   "version": "3.11.1"
  }
 },
 "nbformat": 4,
 "nbformat_minor": 5
}
