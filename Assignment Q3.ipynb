{
 "cells": [
  {
   "cell_type": "code",
   "execution_count": 3,
   "id": "d0c38bd6",
   "metadata": {},
   "outputs": [
    {
     "name": "stdout",
     "output_type": "stream",
     "text": [
      "23\n",
      "56\n",
      "65\n",
      "89.3\n",
      "0\n"
     ]
    }
   ],
   "source": [
    "#Take heights from user\n",
    "heights=[]\n",
    "#Iterative loop\n",
    "while True:\n",
    "    x=float(input())\n",
    "    if(x<=0):\n",
    "        break\n",
    "    heights.append(x)"
   ]
  },
  {
   "cell_type": "code",
   "execution_count": 4,
   "id": "f02e1463",
   "metadata": {},
   "outputs": [
    {
     "name": "stdout",
     "output_type": "stream",
     "text": [
      "[58.42, 142.24, 165.1, 226.822]\n"
     ]
    }
   ],
   "source": [
    "output=[x*2.54 for x in heights]\n",
    "#Print the result\n",
    "print(output)"
   ]
  }
 ],
 "metadata": {
  "kernelspec": {
   "display_name": "Python 3 (ipykernel)",
   "language": "python",
   "name": "python3"
  },
  "language_info": {
   "codemirror_mode": {
    "name": "ipython",
    "version": 3
   },
   "file_extension": ".py",
   "mimetype": "text/x-python",
   "name": "python",
   "nbconvert_exporter": "python",
   "pygments_lexer": "ipython3",
   "version": "3.11.1"
  }
 },
 "nbformat": 4,
 "nbformat_minor": 5
}
